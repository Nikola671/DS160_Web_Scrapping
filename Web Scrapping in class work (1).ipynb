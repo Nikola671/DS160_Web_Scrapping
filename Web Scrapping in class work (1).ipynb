{
 "cells": [
  {
   "cell_type": "markdown",
   "id": "79789ce4-98a7-48f3-8f7b-bb554ef3e9a3",
   "metadata": {},
   "source": [
    "### In-Class Assignment: Web Scraping and Data Extraction from a New Webpage\n",
    "Use the requests library to fetch a new webpage.\n",
    "Parse the HTML content using BeautifulSoup.\n",
    "Extract various elements such as figures, tables, and text.\n",
    "Work collaboratively in groups to practice web scraping and present their findings.\n",
    "- Task 1: Select a Webpage of interest (e.g., a news article, an educational resource, or a data-driven website). Ensure that the selected webpage contains a variety of elements, such as tables, figures, and text content.\n",
    "- Task 2: Fetch and Parse the Webpage"
   ]
  },
  {
   "cell_type": "code",
   "execution_count": 3,
   "id": "be4f77ea-e461-4eba-8185-b6be1de4403a",
   "metadata": {},
   "outputs": [],
   "source": [
    "import requests\n",
    "from bs4 import BeautifulSoup\n",
    "\n",
    "url = 'https://en.wikipedia.org/wiki/List_of_U.S._states_and_territories_by_GDP'\n",
    "response = requests.get(url)"
   ]
  },
  {
   "cell_type": "code",
   "execution_count": 4,
   "id": "86f50e8d-5bf2-411f-b4d8-207b22dee858",
   "metadata": {},
   "outputs": [
    {
     "name": "stdout",
     "output_type": "stream",
     "text": [
      "Successfully fetched the webpage!\n"
     ]
    }
   ],
   "source": [
    "\n",
    "# Check if the request was successful\n",
    "if response.status_code == 200:\n",
    "    print(\"Successfully fetched the webpage!\")\n",
    "else:\n",
    "    print(\"Failed to fetch the webpage.\")"
   ]
  },
  {
   "cell_type": "code",
   "execution_count": 5,
   "id": "0bf3766a-54cb-496d-98aa-825a9531e225",
   "metadata": {},
   "outputs": [],
   "source": [
    "\n",
    "# Parse the HTML content using BeautifulSoup\n",
    "soup = BeautifulSoup(response.text, 'html.parser')"
   ]
  },
  {
   "cell_type": "markdown",
   "id": "364380c0-c7a8-421e-8828-a2519e1c8c4f",
   "metadata": {},
   "source": [
    "### Task 3: Extract Elements"
   ]
  },
  {
   "cell_type": "code",
   "execution_count": 37,
   "id": "a322f402-4644-4fd2-acbe-c0f090ba74af",
   "metadata": {},
   "outputs": [
    {
     "data": {
      "text/html": [
       "<img src=\"//upload.wikimedia.org/wikipedia/commons/thumb/1/13/GDP_per_capita_by_U.S._state.svg/330px-GDP_per_capita_by_U.S._state.svg.png\"/>"
      ],
      "text/plain": [
       "<IPython.core.display.Image object>"
      ]
     },
     "metadata": {},
     "output_type": "display_data"
    }
   ],
   "source": [
    "#Find all images and extract their src attributes.\n",
    "images = soup.find_all('img')\n",
    "image_urls = [img['src'] for img in images if 'src' in img.attrs]\n",
    "\n",
    "img=image_urls[4]\n",
    "img\n",
    "display(Image(url=img))"
   ]
  },
  {
   "cell_type": "code",
   "execution_count": 38,
   "id": "2f448f86-cb62-4644-81ee-a703e14145de",
   "metadata": {},
   "outputs": [],
   "source": [
    "#image display\n",
    "\n",
    "\n",
    "#from IPython.display import Image, display\n",
    "#for url in image_urls:\n",
    "    #display(Image(url=url))\n"
   ]
  },
  {
   "cell_type": "code",
   "execution_count": 44,
   "id": "d94b7c11-6525-4913-a8d0-02684430acc3",
   "metadata": {},
   "outputs": [
    {
     "name": "stderr",
     "output_type": "stream",
     "text": [
      "C:\\Users\\nikol\\AppData\\Local\\Temp\\ipykernel_15652\\1536445735.py:6: FutureWarning: Passing literal html to 'read_html' is deprecated and will be removed in a future version. To read from a literal string, wrap it in a 'StringIO' object.\n",
      "  df = pd.read_html(str(table))[0]\n"
     ]
    },
    {
     "data": {
      "text/html": [
       "<div>\n",
       "<style scoped>\n",
       "    .dataframe tbody tr th:only-of-type {\n",
       "        vertical-align: middle;\n",
       "    }\n",
       "\n",
       "    .dataframe tbody tr th {\n",
       "        vertical-align: top;\n",
       "    }\n",
       "\n",
       "    .dataframe thead tr th {\n",
       "        text-align: left;\n",
       "    }\n",
       "</style>\n",
       "<table border=\"1\" class=\"dataframe\">\n",
       "  <thead>\n",
       "    <tr>\n",
       "      <th></th>\n",
       "      <th>State or federal district</th>\n",
       "      <th colspan=\"2\" halign=\"left\">Nominal GDP at current prices 2023 (millions of U.S. dollars)[1]</th>\n",
       "      <th colspan=\"2\" halign=\"left\">Annual GDP change at current prices (2022–2023)[1]</th>\n",
       "      <th>Real GDP growth rate (2022–2023)[1]</th>\n",
       "      <th colspan=\"2\" halign=\"left\">Nominal GDP per capita[1][3]</th>\n",
       "      <th colspan=\"2\" halign=\"left\">% of national[1]</th>\n",
       "    </tr>\n",
       "    <tr>\n",
       "      <th></th>\n",
       "      <th>State or federal district</th>\n",
       "      <th>2022</th>\n",
       "      <th>2024</th>\n",
       "      <th>Annual GDP change at current prices (2022–2023)[1]</th>\n",
       "      <th>Annual GDP change at current prices (2022–2023)[1].1</th>\n",
       "      <th>Real GDP growth rate (2022–2023)[1]</th>\n",
       "      <th>2022</th>\n",
       "      <th>2024</th>\n",
       "      <th>2022</th>\n",
       "      <th>2023</th>\n",
       "    </tr>\n",
       "  </thead>\n",
       "  <tbody>\n",
       "    <tr>\n",
       "      <th>0</th>\n",
       "      <td>California *</td>\n",
       "      <td>3641643</td>\n",
       "      <td>3987285</td>\n",
       "      <td>220528</td>\n",
       "      <td>6.1%</td>\n",
       "      <td>2.1%</td>\n",
       "      <td>$93,460</td>\n",
       "      <td>$102,527</td>\n",
       "      <td>14.69%</td>\n",
       "      <td>14.11%</td>\n",
       "    </tr>\n",
       "    <tr>\n",
       "      <th>1</th>\n",
       "      <td>Texas *</td>\n",
       "      <td>2402137</td>\n",
       "      <td>2664144</td>\n",
       "      <td>161371</td>\n",
       "      <td>6.7%</td>\n",
       "      <td>5.7%</td>\n",
       "      <td>$78,750</td>\n",
       "      <td>$86,004</td>\n",
       "      <td>8.69%</td>\n",
       "      <td>9.37%</td>\n",
       "    </tr>\n",
       "    <tr>\n",
       "      <th>2</th>\n",
       "      <td>New York *</td>\n",
       "      <td>2048403</td>\n",
       "      <td>2226903</td>\n",
       "      <td>103859</td>\n",
       "      <td>5.1%</td>\n",
       "      <td>0.7%</td>\n",
       "      <td>$104,660</td>\n",
       "      <td>$114,380</td>\n",
       "      <td>8.11%</td>\n",
       "      <td>7.86%</td>\n",
       "    </tr>\n",
       "    <tr>\n",
       "      <th>3</th>\n",
       "      <td>Florida *</td>\n",
       "      <td>1439065</td>\n",
       "      <td>1647446</td>\n",
       "      <td>140438</td>\n",
       "      <td>9.8%</td>\n",
       "      <td>5.0%</td>\n",
       "      <td>$63,640</td>\n",
       "      <td>$71,703</td>\n",
       "      <td>5.37%</td>\n",
       "      <td>5.77%</td>\n",
       "    </tr>\n",
       "    <tr>\n",
       "      <th>4</th>\n",
       "      <td>Illinois *</td>\n",
       "      <td>1025667</td>\n",
       "      <td>1107087</td>\n",
       "      <td>57301</td>\n",
       "      <td>5.6%</td>\n",
       "      <td>1.3%</td>\n",
       "      <td>$81,730</td>\n",
       "      <td>$88,447</td>\n",
       "      <td>4.11%</td>\n",
       "      <td>3.96%</td>\n",
       "    </tr>\n",
       "  </tbody>\n",
       "</table>\n",
       "</div>"
      ],
      "text/plain": [
       "  State or federal district  \\\n",
       "  State or federal district   \n",
       "0              California *   \n",
       "1                   Texas *   \n",
       "2                New York *   \n",
       "3                 Florida *   \n",
       "4                Illinois *   \n",
       "\n",
       "  Nominal GDP at current prices 2023 (millions of U.S. dollars)[1]           \\\n",
       "                                                              2022     2024   \n",
       "0                                            3641643                3987285   \n",
       "1                                            2402137                2664144   \n",
       "2                                            2048403                2226903   \n",
       "3                                            1439065                1647446   \n",
       "4                                            1025667                1107087   \n",
       "\n",
       "  Annual GDP change at current prices (2022–2023)[1]  \\\n",
       "  Annual GDP change at current prices (2022–2023)[1]   \n",
       "0                                             220528   \n",
       "1                                             161371   \n",
       "2                                             103859   \n",
       "3                                             140438   \n",
       "4                                              57301   \n",
       "\n",
       "                                                        \\\n",
       "  Annual GDP change at current prices (2022–2023)[1].1   \n",
       "0                                               6.1%     \n",
       "1                                               6.7%     \n",
       "2                                               5.1%     \n",
       "3                                               9.8%     \n",
       "4                                               5.6%     \n",
       "\n",
       "  Real GDP growth rate (2022–2023)[1] Nominal GDP per capita[1][3]            \\\n",
       "  Real GDP growth rate (2022–2023)[1]                         2022      2024   \n",
       "0                                2.1%                      $93,460  $102,527   \n",
       "1                                5.7%                      $78,750   $86,004   \n",
       "2                                0.7%                     $104,660  $114,380   \n",
       "3                                5.0%                      $63,640   $71,703   \n",
       "4                                1.3%                      $81,730   $88,447   \n",
       "\n",
       "  % of national[1]          \n",
       "              2022    2023  \n",
       "0           14.69%  14.11%  \n",
       "1            8.69%   9.37%  \n",
       "2            8.11%   7.86%  \n",
       "3            5.37%   5.77%  \n",
       "4            4.11%   3.96%  "
      ]
     },
     "execution_count": 44,
     "metadata": {},
     "output_type": "execute_result"
    }
   ],
   "source": [
    "# Locate and extract all tables on the webpage, converting them into Pandas DataFrames.\n",
    "import pandas as pd\n",
    "\n",
    "tables = soup.find_all('table')\n",
    "table=tables[0] if tables else None \n",
    "df = pd.read_html(str(table))[0]\n",
    "df.head()"
   ]
  },
  {
   "cell_type": "code",
   "execution_count": 45,
   "id": "43e17aa6-13eb-499f-9e40-ebe03002dea5",
   "metadata": {},
   "outputs": [
    {
     "ename": "IndentationError",
     "evalue": "unexpected indent (3325418472.py, line 2)",
     "output_type": "error",
     "traceback": [
      "\u001b[1;36m  Cell \u001b[1;32mIn[45], line 2\u001b[1;36m\u001b[0m\n\u001b[1;33m    df = pd.read_html(str(table))[0]\u001b[0m\n\u001b[1;37m    ^\u001b[0m\n\u001b[1;31mIndentationError\u001b[0m\u001b[1;31m:\u001b[0m unexpected indent\n"
     ]
    }
   ],
   "source": [
    "#for i, table in enumerate(tables):\n",
    "    df = pd.read_html(str(table))[0]\n",
    "    print(f\"Table {i+1}:\\n\", df.head(), \"\\n\")\n",
    "\n",
    "\n"
   ]
  },
  {
   "cell_type": "code",
   "execution_count": 52,
   "id": "a1e03c38-9e7e-4092-896e-b5ebf30e23ef",
   "metadata": {},
   "outputs": [
    {
     "name": "stdout",
     "output_type": "stream",
     "text": [
      "\n",
      " This is a list of U.S. states and territories by gross domestic product (GDP). This article presents the 50 U.S. states and the District of Columbia and their nominal GDP at current prices.\n",
      " The data source for the list is the Bureau of Economic Analysis (BEA) in 2024. The BEA defined GDP by state as \"the sum of value added from all industries in the state.\"[1]\n",
      " Nominal GDP does not take into account differences in the cost of living in different countries, and the results can vary greatly from one year to another based on fluctuations in the exchange rates of the country's currency. Such fluctuations may change a country's ranking from one year to the next, even though they often make little or no difference in the standard of living of its population.[2]\n",
      " Overall, in the calendar year 2024, the United States' Nominal GDP at Current Prices totaled at $28.269 trillion, as compared to $25.744 trillion in 2022.\n",
      " \n"
     ]
    }
   ],
   "source": [
    "#Extract the main text content, such as paragraphs or headings.\n",
    "paragraphs = soup.find_all('p')\n",
    "text_content = ' '.join([para.get_text() for para in paragraphs])\n",
    "print(text_content[:926])  # Print the first 500 characters"
   ]
  },
  {
   "cell_type": "markdown",
   "id": "9ae65d97-d34f-4e9f-9281-9d8b9b1fe085",
   "metadata": {},
   "source": [
    "### Task 4: Analyze and Discuss Findings\n",
    "Each group will analyze the extracted data and discuss the following:\n",
    "- What figures (images) were extracted and what do they represent?\n",
    "- What information is contained in the tables, and how does it contribute to the overall content of the webpage?\n",
    "- What is the main focus of the text content extracted? How does it relate to the images and tables?\n",
    "- Discuss the challenges faced during extraction, such as dealing with complex HTML structures or incomplete data."
   ]
  },
  {
   "cell_type": "markdown",
   "id": "69de99ed-7701-48af-a775-ad6a8695dbcf",
   "metadata": {},
   "source": [
    "#The source of the image, table, and text are from Wikipedia *List of US States and Territories by GDP*, which gave insight into how much each US State preforms economically compared to 2024 from 2022. The image that was extracted is a color-coded map of the US with states in darker shades of red having higher nominal GDP and lighter shades of red for states with lower nominal GDP. From the image, it can be infered which states stand with the highest nominal GDP contributions and which states contributed the least. From the table extracted, the same conclusion can be made; however, with the table's data adding monetary values to attribute to each state, it can be further obsered that California has the highest GDP from 2022 and 2024, but Texas has higher rate of growth between those two years. This is an inference one could not have made by solely analyzing the image. The text extracted gives overview of the data the image and table provide, while also giving additional information like total amounts from states' collective data. The biggest challenge faced during extraction was displaying the desired image in the notebook. The remedy discoved was assigning the url of the desired image to a variable, and then displaying that specific image from the list of images collected from the source. "
   ]
  },
  {
   "cell_type": "markdown",
   "id": "4d651c13-67f1-4945-9a93-71d5d241c62b",
   "metadata": {},
   "source": [
    "### Task 5: Present Findings\n",
    "Shares your analysis of the extracted elements.\n",
    "Discusses any patterns, relationships, or insights gained from the data."
   ]
  },
  {
   "cell_type": "markdown",
   "id": "cb7d6ad8-b42a-4d26-8fa4-10a9955b690a",
   "metadata": {},
   "source": [
    "Each group should submit their Jupyter notebook (or Python script) with the code, analysis, and any additional notes or reflections on the exercise."
   ]
  },
  {
   "cell_type": "code",
   "execution_count": null,
   "id": "42ecd5f1-4248-4919-b064-e5849dd29d4c",
   "metadata": {},
   "outputs": [],
   "source": []
  }
 ],
 "metadata": {
  "kernelspec": {
   "display_name": "Python 3 (ipykernel)",
   "language": "python",
   "name": "python3"
  },
  "language_info": {
   "codemirror_mode": {
    "name": "ipython",
    "version": 3
   },
   "file_extension": ".py",
   "mimetype": "text/x-python",
   "name": "python",
   "nbconvert_exporter": "python",
   "pygments_lexer": "ipython3",
   "version": "3.11.5"
  }
 },
 "nbformat": 4,
 "nbformat_minor": 5
}
